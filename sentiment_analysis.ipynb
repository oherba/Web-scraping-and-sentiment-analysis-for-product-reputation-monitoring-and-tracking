{
 "cells": [
  {
   "cell_type": "code",
   "execution_count": 42,
   "metadata": {},
   "outputs": [
    {
     "name": "stdout",
     "output_type": "stream",
     "text": [
      "Requirement already satisfied: numpy in ./ps2/lib/python3.8/site-packages (1.24.3)\n",
      "Requirement already satisfied: pandas in ./ps2/lib/python3.8/site-packages (2.0.1)\n",
      "Requirement already satisfied: python-dateutil>=2.8.2 in ./ps2/lib/python3.8/site-packages (from pandas) (2.8.2)\n",
      "Requirement already satisfied: pytz>=2020.1 in ./ps2/lib/python3.8/site-packages (from pandas) (2023.3)\n",
      "Requirement already satisfied: tzdata>=2022.1 in ./ps2/lib/python3.8/site-packages (from pandas) (2023.3)\n",
      "Requirement already satisfied: numpy>=1.20.3 in ./ps2/lib/python3.8/site-packages (from pandas) (1.24.3)\n",
      "Requirement already satisfied: six>=1.5 in ./ps2/lib/python3.8/site-packages (from python-dateutil>=2.8.2->pandas) (1.16.0)\n",
      "Requirement already satisfied: seaborn in ./ps2/lib/python3.8/site-packages (0.12.2)\n",
      "Requirement already satisfied: numpy!=1.24.0,>=1.17 in ./ps2/lib/python3.8/site-packages (from seaborn) (1.24.3)\n",
      "Requirement already satisfied: pandas>=0.25 in ./ps2/lib/python3.8/site-packages (from seaborn) (2.0.1)\n",
      "Requirement already satisfied: matplotlib!=3.6.1,>=3.1 in ./ps2/lib/python3.8/site-packages (from seaborn) (3.7.1)\n",
      "Requirement already satisfied: contourpy>=1.0.1 in ./ps2/lib/python3.8/site-packages (from matplotlib!=3.6.1,>=3.1->seaborn) (1.0.7)\n",
      "Requirement already satisfied: cycler>=0.10 in ./ps2/lib/python3.8/site-packages (from matplotlib!=3.6.1,>=3.1->seaborn) (0.11.0)\n",
      "Requirement already satisfied: fonttools>=4.22.0 in ./ps2/lib/python3.8/site-packages (from matplotlib!=3.6.1,>=3.1->seaborn) (4.39.4)\n",
      "Requirement already satisfied: kiwisolver>=1.0.1 in ./ps2/lib/python3.8/site-packages (from matplotlib!=3.6.1,>=3.1->seaborn) (1.4.4)\n",
      "Requirement already satisfied: packaging>=20.0 in ./ps2/lib/python3.8/site-packages (from matplotlib!=3.6.1,>=3.1->seaborn) (23.1)\n",
      "Requirement already satisfied: pillow>=6.2.0 in ./ps2/lib/python3.8/site-packages (from matplotlib!=3.6.1,>=3.1->seaborn) (9.5.0)\n",
      "Requirement already satisfied: pyparsing>=2.3.1 in ./ps2/lib/python3.8/site-packages (from matplotlib!=3.6.1,>=3.1->seaborn) (3.0.9)\n",
      "Requirement already satisfied: python-dateutil>=2.7 in ./ps2/lib/python3.8/site-packages (from matplotlib!=3.6.1,>=3.1->seaborn) (2.8.2)\n",
      "Requirement already satisfied: importlib-resources>=3.2.0 in ./ps2/lib/python3.8/site-packages (from matplotlib!=3.6.1,>=3.1->seaborn) (5.12.0)\n",
      "Requirement already satisfied: pytz>=2020.1 in ./ps2/lib/python3.8/site-packages (from pandas>=0.25->seaborn) (2023.3)\n",
      "Requirement already satisfied: tzdata>=2022.1 in ./ps2/lib/python3.8/site-packages (from pandas>=0.25->seaborn) (2023.3)\n",
      "Requirement already satisfied: zipp>=3.1.0 in ./ps2/lib/python3.8/site-packages (from importlib-resources>=3.2.0->matplotlib!=3.6.1,>=3.1->seaborn) (3.15.0)\n",
      "Requirement already satisfied: six>=1.5 in ./ps2/lib/python3.8/site-packages (from python-dateutil>=2.7->matplotlib!=3.6.1,>=3.1->seaborn) (1.16.0)\n",
      "Requirement already satisfied: nltk in ./ps2/lib/python3.8/site-packages (3.8.1)\n",
      "Requirement already satisfied: click in ./ps2/lib/python3.8/site-packages (from nltk) (8.1.3)\n",
      "Requirement already satisfied: joblib in ./ps2/lib/python3.8/site-packages (from nltk) (1.2.0)\n",
      "Requirement already satisfied: regex>=2021.8.3 in ./ps2/lib/python3.8/site-packages (from nltk) (2023.6.3)\n",
      "Requirement already satisfied: tqdm in ./ps2/lib/python3.8/site-packages (from nltk) (4.65.0)\n",
      "Requirement already satisfied: svgling in ./ps2/lib/python3.8/site-packages (0.3.1)\n",
      "Requirement already satisfied: svgwrite in ./ps2/lib/python3.8/site-packages (from svgling) (1.4.3)\n",
      "Requirement already satisfied: gensim in ./ps2/lib/python3.8/site-packages (4.3.1)\n",
      "Requirement already satisfied: numpy>=1.18.5 in ./ps2/lib/python3.8/site-packages (from gensim) (1.24.3)\n",
      "Requirement already satisfied: scipy>=1.7.0 in ./ps2/lib/python3.8/site-packages (from gensim) (1.10.1)\n",
      "Requirement already satisfied: smart-open>=1.8.1 in ./ps2/lib/python3.8/site-packages (from gensim) (6.3.0)\n",
      "Requirement already satisfied: wordcloud in ./ps2/lib/python3.8/site-packages (1.9.2)\n",
      "Requirement already satisfied: numpy>=1.6.1 in ./ps2/lib/python3.8/site-packages (from wordcloud) (1.24.3)\n",
      "Requirement already satisfied: pillow in ./ps2/lib/python3.8/site-packages (from wordcloud) (9.5.0)\n",
      "Requirement already satisfied: matplotlib in ./ps2/lib/python3.8/site-packages (from wordcloud) (3.7.1)\n",
      "Requirement already satisfied: contourpy>=1.0.1 in ./ps2/lib/python3.8/site-packages (from matplotlib->wordcloud) (1.0.7)\n",
      "Requirement already satisfied: cycler>=0.10 in ./ps2/lib/python3.8/site-packages (from matplotlib->wordcloud) (0.11.0)\n",
      "Requirement already satisfied: fonttools>=4.22.0 in ./ps2/lib/python3.8/site-packages (from matplotlib->wordcloud) (4.39.4)\n",
      "Requirement already satisfied: kiwisolver>=1.0.1 in ./ps2/lib/python3.8/site-packages (from matplotlib->wordcloud) (1.4.4)\n",
      "Requirement already satisfied: packaging>=20.0 in ./ps2/lib/python3.8/site-packages (from matplotlib->wordcloud) (23.1)\n",
      "Requirement already satisfied: pyparsing>=2.3.1 in ./ps2/lib/python3.8/site-packages (from matplotlib->wordcloud) (3.0.9)\n",
      "Requirement already satisfied: python-dateutil>=2.7 in ./ps2/lib/python3.8/site-packages (from matplotlib->wordcloud) (2.8.2)\n",
      "Requirement already satisfied: importlib-resources>=3.2.0 in ./ps2/lib/python3.8/site-packages (from matplotlib->wordcloud) (5.12.0)\n",
      "Requirement already satisfied: zipp>=3.1.0 in ./ps2/lib/python3.8/site-packages (from importlib-resources>=3.2.0->matplotlib->wordcloud) (3.15.0)\n",
      "Requirement already satisfied: six>=1.5 in ./ps2/lib/python3.8/site-packages (from python-dateutil>=2.7->matplotlib->wordcloud) (1.16.0)\n"
     ]
    },
    {
     "name": "stderr",
     "output_type": "stream",
     "text": [
      "[nltk_data] Downloading package stopwords to /Users/test/nltk_data...\n",
      "[nltk_data]   Package stopwords is already up-to-date!\n",
      "[nltk_data] Downloading package averaged_perceptron_tagger to\n",
      "[nltk_data]     /Users/test/nltk_data...\n",
      "[nltk_data]   Package averaged_perceptron_tagger is already up-to-\n",
      "[nltk_data]       date!\n",
      "[nltk_data] Downloading package maxent_ne_chunker to\n",
      "[nltk_data]     /Users/test/nltk_data...\n",
      "[nltk_data]   Package maxent_ne_chunker is already up-to-date!\n",
      "[nltk_data] Downloading package words to /Users/test/nltk_data...\n",
      "[nltk_data]   Package words is already up-to-date!\n",
      "[nltk_data] Downloading package wordnet to /Users/test/nltk_data...\n",
      "[nltk_data]   Package wordnet is already up-to-date!\n",
      "[nltk_data] Downloading package punkt to /Users/test/nltk_data...\n",
      "[nltk_data]   Package punkt is already up-to-date!\n"
     ]
    },
    {
     "data": {
      "text/plain": [
       "True"
      ]
     },
     "execution_count": 42,
     "metadata": {},
     "output_type": "execute_result"
    }
   ],
   "source": [
    "!pip install numpy\n",
    "!pip install pandas\n",
    "!pip install seaborn\n",
    "!pip install nltk\n",
    "!pip install svgling\n",
    "!pip install gensim\n",
    "!pip install wordcloud\n",
    "\n",
    "import numpy as np \n",
    "import pandas as pd\n",
    "from IPython.display import display\n",
    "import seaborn as sns\n",
    "import re\n",
    "import string\n",
    "import matplotlib.pyplot as plt\n",
    "\n",
    "import nltk\n",
    "from nltk.corpus import stopwords\n",
    "from nltk import pos_tag, ne_chunk # for NER\n",
    "from nltk.stem import PorterStemmer\n",
    "from nltk.tokenize import word_tokenize\n",
    "from nltk.stem import WordNetLemmatizer\n",
    "lemmatizer = WordNetLemmatizer()\n",
    "stemmer = PorterStemmer()\n",
    "\n",
    "nltk.download('stopwords')\n",
    "nltk.download('averaged_perceptron_tagger')\n",
    "nltk.download('maxent_ne_chunker')\n",
    "nltk.download('words')\n",
    "nltk.download('wordnet')\n",
    "nltk.download('punkt')"
   ]
  },
  {
   "cell_type": "markdown",
   "metadata": {},
   "source": [
    "# 1-Data Exploration"
   ]
  },
  {
   "cell_type": "markdown",
   "metadata": {},
   "source": [
    "###### Before preprocessing the dataset, we will explore, prepare, analyze and visualize the datase"
   ]
  },
  {
   "cell_type": "code",
   "execution_count": 21,
   "metadata": {},
   "outputs": [],
   "source": [
    "# Load the Dataset\n",
    "\n",
    "colnames = ['sentiment', 'title', 'text']\n",
    "\n",
    "train_df = pd.read_csv('archive/train.csv', names=colnames)\n",
    "test_df = pd.read_csv('archive/test.csv' , names=colnames)\n"
   ]
  },
  {
   "cell_type": "code",
   "execution_count": 22,
   "metadata": {},
   "outputs": [
    {
     "data": {
      "text/html": [
       "<div>\n",
       "<style scoped>\n",
       "    .dataframe tbody tr th:only-of-type {\n",
       "        vertical-align: middle;\n",
       "    }\n",
       "\n",
       "    .dataframe tbody tr th {\n",
       "        vertical-align: top;\n",
       "    }\n",
       "\n",
       "    .dataframe thead th {\n",
       "        text-align: right;\n",
       "    }\n",
       "</style>\n",
       "<table border=\"1\" class=\"dataframe\">\n",
       "  <thead>\n",
       "    <tr style=\"text-align: right;\">\n",
       "      <th></th>\n",
       "      <th>sentiment</th>\n",
       "      <th>title</th>\n",
       "      <th>text</th>\n",
       "    </tr>\n",
       "  </thead>\n",
       "  <tbody>\n",
       "    <tr>\n",
       "      <th>0</th>\n",
       "      <td>2</td>\n",
       "      <td>Stuning even for the non-gamer</td>\n",
       "      <td>This sound track was beautiful! It paints the ...</td>\n",
       "    </tr>\n",
       "    <tr>\n",
       "      <th>1</th>\n",
       "      <td>2</td>\n",
       "      <td>The best soundtrack ever to anything.</td>\n",
       "      <td>I'm reading a lot of reviews saying that this ...</td>\n",
       "    </tr>\n",
       "    <tr>\n",
       "      <th>2</th>\n",
       "      <td>2</td>\n",
       "      <td>Amazing!</td>\n",
       "      <td>This soundtrack is my favorite music of all ti...</td>\n",
       "    </tr>\n",
       "    <tr>\n",
       "      <th>3</th>\n",
       "      <td>2</td>\n",
       "      <td>Excellent Soundtrack</td>\n",
       "      <td>I truly like this soundtrack and I enjoy video...</td>\n",
       "    </tr>\n",
       "    <tr>\n",
       "      <th>4</th>\n",
       "      <td>2</td>\n",
       "      <td>Remember, Pull Your Jaw Off The Floor After He...</td>\n",
       "      <td>If you've played the game, you know how divine...</td>\n",
       "    </tr>\n",
       "  </tbody>\n",
       "</table>\n",
       "</div>"
      ],
      "text/plain": [
       "   sentiment                                              title   \n",
       "0          2                     Stuning even for the non-gamer  \\\n",
       "1          2              The best soundtrack ever to anything.   \n",
       "2          2                                           Amazing!   \n",
       "3          2                               Excellent Soundtrack   \n",
       "4          2  Remember, Pull Your Jaw Off The Floor After He...   \n",
       "\n",
       "                                                text  \n",
       "0  This sound track was beautiful! It paints the ...  \n",
       "1  I'm reading a lot of reviews saying that this ...  \n",
       "2  This soundtrack is my favorite music of all ti...  \n",
       "3  I truly like this soundtrack and I enjoy video...  \n",
       "4  If you've played the game, you know how divine...  "
      ]
     },
     "metadata": {},
     "output_type": "display_data"
    },
    {
     "name": "stdout",
     "output_type": "stream",
     "text": [
      "None\n"
     ]
    },
    {
     "data": {
      "text/html": [
       "<div>\n",
       "<style scoped>\n",
       "    .dataframe tbody tr th:only-of-type {\n",
       "        vertical-align: middle;\n",
       "    }\n",
       "\n",
       "    .dataframe tbody tr th {\n",
       "        vertical-align: top;\n",
       "    }\n",
       "\n",
       "    .dataframe thead th {\n",
       "        text-align: right;\n",
       "    }\n",
       "</style>\n",
       "<table border=\"1\" class=\"dataframe\">\n",
       "  <thead>\n",
       "    <tr style=\"text-align: right;\">\n",
       "      <th></th>\n",
       "      <th>sentiment</th>\n",
       "      <th>title</th>\n",
       "      <th>text</th>\n",
       "    </tr>\n",
       "  </thead>\n",
       "  <tbody>\n",
       "    <tr>\n",
       "      <th>0</th>\n",
       "      <td>2</td>\n",
       "      <td>Great CD</td>\n",
       "      <td>My lovely Pat has one of the GREAT voices of h...</td>\n",
       "    </tr>\n",
       "    <tr>\n",
       "      <th>1</th>\n",
       "      <td>2</td>\n",
       "      <td>One of the best game music soundtracks - for a...</td>\n",
       "      <td>Despite the fact that I have only played a sma...</td>\n",
       "    </tr>\n",
       "    <tr>\n",
       "      <th>2</th>\n",
       "      <td>1</td>\n",
       "      <td>Batteries died within a year ...</td>\n",
       "      <td>I bought this charger in Jul 2003 and it worke...</td>\n",
       "    </tr>\n",
       "    <tr>\n",
       "      <th>3</th>\n",
       "      <td>2</td>\n",
       "      <td>works fine, but Maha Energy is better</td>\n",
       "      <td>Check out Maha Energy's website. Their Powerex...</td>\n",
       "    </tr>\n",
       "    <tr>\n",
       "      <th>4</th>\n",
       "      <td>2</td>\n",
       "      <td>Great for the non-audiophile</td>\n",
       "      <td>Reviewed quite a bit of the combo players and ...</td>\n",
       "    </tr>\n",
       "  </tbody>\n",
       "</table>\n",
       "</div>"
      ],
      "text/plain": [
       "   sentiment                                              title   \n",
       "0          2                                           Great CD  \\\n",
       "1          2  One of the best game music soundtracks - for a...   \n",
       "2          1                   Batteries died within a year ...   \n",
       "3          2              works fine, but Maha Energy is better   \n",
       "4          2                       Great for the non-audiophile   \n",
       "\n",
       "                                                text  \n",
       "0  My lovely Pat has one of the GREAT voices of h...  \n",
       "1  Despite the fact that I have only played a sma...  \n",
       "2  I bought this charger in Jul 2003 and it worke...  \n",
       "3  Check out Maha Energy's website. Their Powerex...  \n",
       "4  Reviewed quite a bit of the combo players and ...  "
      ]
     },
     "metadata": {},
     "output_type": "display_data"
    },
    {
     "name": "stdout",
     "output_type": "stream",
     "text": [
      "None\n"
     ]
    }
   ],
   "source": [
    "# the dataset has been successfully loaded \n",
    "print(display(train_df.head()))\n",
    "print(display(test_df.head()))"
   ]
  },
  {
   "cell_type": "markdown",
   "metadata": {},
   "source": [
    "###### The two dataframes have three columns:\n",
    "\n",
    "sentiment - Target variable with two categorical levels: 1 if the review is negative (1/2 stars rating); 2 if the review is positive (4/5 stars rating).\n",
    "\n",
    "title - Heading of the review.\n",
    "\n",
    "text - Body of the review."
   ]
  },
  {
   "cell_type": "code",
   "execution_count": 23,
   "metadata": {},
   "outputs": [
    {
     "name": "stdout",
     "output_type": "stream",
     "text": [
      "(3600000, 3)\n",
      "(400000, 3)\n",
      "\n",
      "\n",
      "\n",
      "<class 'pandas.core.frame.DataFrame'>\n",
      "RangeIndex: 3600000 entries, 0 to 3599999\n",
      "Data columns (total 3 columns):\n",
      " #   Column     Dtype \n",
      "---  ------     ----- \n",
      " 0   sentiment  int64 \n",
      " 1   title      object\n",
      " 2   text       object\n",
      "dtypes: int64(1), object(2)\n",
      "memory usage: 82.4+ MB\n"
     ]
    },
    {
     "data": {
      "text/plain": [
       "None"
      ]
     },
     "metadata": {},
     "output_type": "display_data"
    },
    {
     "name": "stdout",
     "output_type": "stream",
     "text": [
      "None\n",
      "\n",
      "\n",
      "\n",
      "<class 'pandas.core.frame.DataFrame'>\n",
      "RangeIndex: 400000 entries, 0 to 399999\n",
      "Data columns (total 3 columns):\n",
      " #   Column     Non-Null Count   Dtype \n",
      "---  ------     --------------   ----- \n",
      " 0   sentiment  400000 non-null  int64 \n",
      " 1   title      399976 non-null  object\n",
      " 2   text       400000 non-null  object\n",
      "dtypes: int64(1), object(2)\n",
      "memory usage: 9.2+ MB\n",
      "None\n"
     ]
    }
   ],
   "source": [
    "# Inspect the structure of the dataset \n",
    "\n",
    "print(train_df.shape)\n",
    "print(test_df.shape)\n",
    "print (\"\\n\\n\")\n",
    "print(display(train_df.info()))\n",
    "print (\"\\n\\n\")\n",
    "print(test_df.info())\n",
    "\n"
   ]
  },
  {
   "cell_type": "markdown",
   "metadata": {},
   "source": [
    "Since the original dataset is huge, for time and memory contsraints we will restrict to a random subset of 50000 rows from train_df and 10000 rows from test_df, which will be respectively our training and validation set. We select such subsets randomly and so that their are both perfectly balanced. We also merge the title and text features in a single text column."
   ]
  },
  {
   "cell_type": "code",
   "execution_count": 24,
   "metadata": {},
   "outputs": [
    {
     "data": {
      "text/html": [
       "<div>\n",
       "<style scoped>\n",
       "    .dataframe tbody tr th:only-of-type {\n",
       "        vertical-align: middle;\n",
       "    }\n",
       "\n",
       "    .dataframe tbody tr th {\n",
       "        vertical-align: top;\n",
       "    }\n",
       "\n",
       "    .dataframe thead th {\n",
       "        text-align: right;\n",
       "    }\n",
       "</style>\n",
       "<table border=\"1\" class=\"dataframe\">\n",
       "  <thead>\n",
       "    <tr style=\"text-align: right;\">\n",
       "      <th></th>\n",
       "      <th>sentiment</th>\n",
       "      <th>text</th>\n",
       "    </tr>\n",
       "  </thead>\n",
       "  <tbody>\n",
       "    <tr>\n",
       "      <th>0</th>\n",
       "      <td>1</td>\n",
       "      <td>The History of Torture and Execution. I have n...</td>\n",
       "    </tr>\n",
       "    <tr>\n",
       "      <th>1</th>\n",
       "      <td>1</td>\n",
       "      <td>Stainless Steel shouldn't corrode... should it...</td>\n",
       "    </tr>\n",
       "    <tr>\n",
       "      <th>2</th>\n",
       "      <td>1</td>\n",
       "      <td>Another Weak Sequel To A Once Promising Franch...</td>\n",
       "    </tr>\n",
       "    <tr>\n",
       "      <th>3</th>\n",
       "      <td>1</td>\n",
       "      <td>Simply Awful. Contrived, trite, \"Bridget Jones...</td>\n",
       "    </tr>\n",
       "    <tr>\n",
       "      <th>4</th>\n",
       "      <td>1</td>\n",
       "      <td>FLASH. Jeff Beck's Flash In my opinion, was no...</td>\n",
       "    </tr>\n",
       "  </tbody>\n",
       "</table>\n",
       "</div>"
      ],
      "text/plain": [
       "   sentiment                                               text\n",
       "0          1  The History of Torture and Execution. I have n...\n",
       "1          1  Stainless Steel shouldn't corrode... should it...\n",
       "2          1  Another Weak Sequel To A Once Promising Franch...\n",
       "3          1  Simply Awful. Contrived, trite, \"Bridget Jones...\n",
       "4          1  FLASH. Jeff Beck's Flash In my opinion, was no..."
      ]
     },
     "execution_count": 24,
     "metadata": {},
     "output_type": "execute_result"
    }
   ],
   "source": [
    "# fill empty titles with empty string\n",
    "train_df['title'].fillna('', inplace=True)\n",
    "test_df['title'].fillna('', inplace=True)\n",
    "\n",
    "# take sample of data for this project\n",
    "train_len = 50000\n",
    "test_len = 10000\n",
    "rs = 42\n",
    "\n",
    "df = pd.concat([train_df.loc[train_df['sentiment'] == 1].sample(train_len//2, random_state=rs),\n",
    "                train_df.loc[train_df['sentiment'] == 2].sample(train_len//2, random_state=rs),\n",
    "                test_df.loc[test_df['sentiment'] == 1].sample(test_len//2, random_state=rs),\n",
    "                test_df.loc[test_df['sentiment'] == 2].sample(test_len//2, random_state=rs)]).reset_index(drop=True)\n",
    "\n",
    "# combine title and text\n",
    "df['text'] = df['title'] + '. ' + df['text']\n",
    "df.drop('title', axis=1, inplace=True)\n",
    "df.head() \n",
    "\n"
   ]
  },
  {
   "cell_type": "code",
   "execution_count": 25,
   "metadata": {},
   "outputs": [
    {
     "name": "stdout",
     "output_type": "stream",
     "text": [
      "Label counts - training set:\n",
      "sentiment\n",
      "1    25000\n",
      "2    25000\n",
      "Name: count, dtype: int64\n",
      "\n",
      "Label counts - validation set:\n",
      "sentiment\n",
      "1    5000\n",
      "2    5000\n",
      "Name: count, dtype: int64\n"
     ]
    },
    {
     "data": {
      "text/plain": [
       "sentiment    0\n",
       "text         0\n",
       "dtype: int64"
      ]
     },
     "execution_count": 25,
     "metadata": {},
     "output_type": "execute_result"
    }
   ],
   "source": [
    "print(f'Label counts - training set:\\n{df[:train_len].sentiment.value_counts()}')\n",
    "print(f'\\nLabel counts - validation set:\\n{df[train_len:].sentiment.value_counts()}')\n",
    "# checking for missing values\n",
    "df.isnull().sum() "
   ]
  },
  {
   "cell_type": "code",
   "execution_count": 26,
   "metadata": {},
   "outputs": [
    {
     "data": {
      "image/png": "[encoded data removed]",
      "text/plain": [
       "<Figure size 640x480 with 1 Axes>"
      ]
     },
     "metadata": {},
     "output_type": "display_data"
    }
   ],
   "source": [
    "# plot the classes\n",
    "sns.countplot(x=df[\"sentiment\"]); "
   ]
  },
  {
   "cell_type": "markdown",
   "metadata": {},
   "source": [
    "# 2-Text Preprocessing"
   ]
  },
  {
   "cell_type": "code",
   "execution_count": 8,
   "metadata": {},
   "outputs": [],
   "source": [
    "# function to process text, including Tokenizing, Lemmatizing and Stemmatizinh, Stop Words removals and NER\n",
    "def preprocess_text(df, text_column, processed_column='text_processed', tokens_column='text_tokens', lemma_column='text_lemmatize', entities_column='text_entities'):\n",
    "    # Convert text to lowercase and remove punctuation, numbers, and line breaks\n",
    "    df[processed_column] = df[text_column].str.lower().apply(lambda x: re.sub(r'[^\\w\\s]|\\d|\\r|\\n', '', x))\n",
    "    \n",
    "    # Tokenize the text of processed text\n",
    "    df[tokens_column] = df[processed_column].apply(lambda x: nltk.word_tokenize(x))\n",
    "    \n",
    "    # Remove stop words from tokenized text\n",
    "    stop_words = set(stopwords.words('english'))\n",
    "    df[tokens_column] = df[tokens_column].apply(lambda x: [word for word in x if word not in stop_words])\n",
    "    \n",
    "    # Remmove suffixes with Lemma and Stemma and find roots\n",
    "    df[lemma_column] = df[tokens_column].apply(lambda x: [stemmer.stem(lemmatizer.lemmatize(word)) for word in x])\n",
    "    \n",
    "    # NER - Extract named entities\n",
    "    df[entities_column] = df[tokens_column].apply(lambda x: ne_chunk(pos_tag(x)))\n",
    "    \n",
    "    \n",
    "    # Join the tokens back into a single string\n",
    "#     df['text'] = df['text'].apply(' '.join)\n",
    "    \n",
    "    \n",
    "    return df"
   ]
  },
  {
   "cell_type": "code",
   "execution_count": 27,
   "metadata": {},
   "outputs": [],
   "source": [
    "df = preprocess_text(df, 'text')"
   ]
  },
  {
   "cell_type": "code",
   "execution_count": 37,
   "metadata": {},
   "outputs": [
    {
     "name": "stdout",
     "output_type": "stream",
     "text": [
      "(60000, 7)\n"
     ]
    },
    {
     "data": {
      "text/html": [
       "<div>\n",
       "<style scoped>\n",
       "    .dataframe tbody tr th:only-of-type {\n",
       "        vertical-align: middle;\n",
       "    }\n",
       "\n",
       "    .dataframe tbody tr th {\n",
       "        vertical-align: top;\n",
       "    }\n",
       "\n",
       "    .dataframe thead th {\n",
       "        text-align: right;\n",
       "    }\n",
       "</style>\n",
       "<table border=\"1\" class=\"dataframe\">\n",
       "  <thead>\n",
       "    <tr style=\"text-align: right;\">\n",
       "      <th></th>\n",
       "      <th>sentiment</th>\n",
       "      <th>text</th>\n",
       "      <th>text_processed</th>\n",
       "      <th>text_tokens</th>\n",
       "      <th>text_lemmatize</th>\n",
       "      <th>text_entities</th>\n",
       "      <th>topics</th>\n",
       "    </tr>\n",
       "  </thead>\n",
       "  <tbody>\n",
       "    <tr>\n",
       "      <th>0</th>\n",
       "      <td>1</td>\n",
       "      <td>The History of Torture and Execution. I have n...</td>\n",
       "      <td>the history of torture and execution i have no...</td>\n",
       "      <td>[history, torture, execution, yet, received, b...</td>\n",
       "      <td>[histori, tortur, execut, yet, receiv, book, o...</td>\n",
       "      <td>[(history, NN), (torture, NN), (execution, NN)...</td>\n",
       "      <td>[(5, 0.51496077), (7, 0.45424443)]</td>\n",
       "    </tr>\n",
       "    <tr>\n",
       "      <th>1</th>\n",
       "      <td>1</td>\n",
       "      <td>Stainless Steel shouldn't corrode... should it...</td>\n",
       "      <td>stainless steel shouldnt corrode should it we ...</td>\n",
       "      <td>[stainless, steel, shouldnt, corrode, really, ...</td>\n",
       "      <td>[stainless, steel, shouldnt, corrod, realli, p...</td>\n",
       "      <td>[(stainless, NN), (steel, NN), (shouldnt, NN),...</td>\n",
       "      <td>[(4, 0.023144903), (5, 0.96175444)]</td>\n",
       "    </tr>\n",
       "    <tr>\n",
       "      <th>2</th>\n",
       "      <td>1</td>\n",
       "      <td>Another Weak Sequel To A Once Promising Franch...</td>\n",
       "      <td>another weak sequel to a once promising franch...</td>\n",
       "      <td>[another, weak, sequel, promising, franchise, ...</td>\n",
       "      <td>[anoth, weak, sequel, promis, franchis, hellra...</td>\n",
       "      <td>[(another, DT), (weak, JJ), (sequel, NN), (pro...</td>\n",
       "      <td>[(3, 0.38876757), (4, 0.23142038), (7, 0.35280...</td>\n",
       "    </tr>\n",
       "    <tr>\n",
       "      <th>3</th>\n",
       "      <td>1</td>\n",
       "      <td>Simply Awful. Contrived, trite, \"Bridget Jones...</td>\n",
       "      <td>simply awful contrived trite bridget joness di...</td>\n",
       "      <td>[simply, awful, contrived, trite, bridget, jon...</td>\n",
       "      <td>[simpli, aw, contriv, trite, bridget, jone, di...</td>\n",
       "      <td>[(simply, RB), (awful, JJ), (contrived, VBN), ...</td>\n",
       "      <td>[(2, 0.04256444), (7, 0.73173743), (8, 0.19872...</td>\n",
       "    </tr>\n",
       "    <tr>\n",
       "      <th>4</th>\n",
       "      <td>1</td>\n",
       "      <td>FLASH. Jeff Beck's Flash In my opinion, was no...</td>\n",
       "      <td>flash jeff becks flash in my opinion was not o...</td>\n",
       "      <td>[flash, jeff, becks, flash, opinion, one, bett...</td>\n",
       "      <td>[flash, jeff, beck, flash, opinion, one, bette...</td>\n",
       "      <td>[(flash, NN), (jeff, NN), (becks, NNS), (flash...</td>\n",
       "      <td>[(0, 0.035139356), (4, 0.21914667), (5, 0.0979...</td>\n",
       "    </tr>\n",
       "  </tbody>\n",
       "</table>\n",
       "</div>"
      ],
      "text/plain": [
       "   sentiment                                               text   \n",
       "0          1  The History of Torture and Execution. I have n...  \\\n",
       "1          1  Stainless Steel shouldn't corrode... should it...   \n",
       "2          1  Another Weak Sequel To A Once Promising Franch...   \n",
       "3          1  Simply Awful. Contrived, trite, \"Bridget Jones...   \n",
       "4          1  FLASH. Jeff Beck's Flash In my opinion, was no...   \n",
       "\n",
       "                                      text_processed   \n",
       "0  the history of torture and execution i have no...  \\\n",
       "1  stainless steel shouldnt corrode should it we ...   \n",
       "2  another weak sequel to a once promising franch...   \n",
       "3  simply awful contrived trite bridget joness di...   \n",
       "4  flash jeff becks flash in my opinion was not o...   \n",
       "\n",
       "                                         text_tokens   \n",
       "0  [history, torture, execution, yet, received, b...  \\\n",
       "1  [stainless, steel, shouldnt, corrode, really, ...   \n",
       "2  [another, weak, sequel, promising, franchise, ...   \n",
       "3  [simply, awful, contrived, trite, bridget, jon...   \n",
       "4  [flash, jeff, becks, flash, opinion, one, bett...   \n",
       "\n",
       "                                      text_lemmatize   \n",
       "0  [histori, tortur, execut, yet, receiv, book, o...  \\\n",
       "1  [stainless, steel, shouldnt, corrod, realli, p...   \n",
       "2  [anoth, weak, sequel, promis, franchis, hellra...   \n",
       "3  [simpli, aw, contriv, trite, bridget, jone, di...   \n",
       "4  [flash, jeff, beck, flash, opinion, one, bette...   \n",
       "\n",
       "                                       text_entities   \n",
       "0  [(history, NN), (torture, NN), (execution, NN)...  \\\n",
       "1  [(stainless, NN), (steel, NN), (shouldnt, NN),...   \n",
       "2  [(another, DT), (weak, JJ), (sequel, NN), (pro...   \n",
       "3  [(simply, RB), (awful, JJ), (contrived, VBN), ...   \n",
       "4  [(flash, NN), (jeff, NN), (becks, NNS), (flash...   \n",
       "\n",
       "                                              topics  \n",
       "0                 [(5, 0.51496077), (7, 0.45424443)]  \n",
       "1                [(4, 0.023144903), (5, 0.96175444)]  \n",
       "2  [(3, 0.38876757), (4, 0.23142038), (7, 0.35280...  \n",
       "3  [(2, 0.04256444), (7, 0.73173743), (8, 0.19872...  \n",
       "4  [(0, 0.035139356), (4, 0.21914667), (5, 0.0979...  "
      ]
     },
     "execution_count": 37,
     "metadata": {},
     "output_type": "execute_result"
    }
   ],
   "source": [
    "# Let's have a look at our processed Data Frame\n",
    "print(df.shape)\n",
    "df.head()"
   ]
  },
  {
   "cell_type": "code",
   "execution_count": null,
   "metadata": {},
   "outputs": [],
   "source": [
    "from gensim.corpora import Dictionary\n",
    "from gensim.models import LdaModel\n",
    "\n",
    "def topic_modeling(documents, dictionary, num_topics=10, num_words=10):\n",
    "    # Create a corpus from the documents\n",
    "    corpus = [dictionary.doc2bow(doc) for doc in documents]\n",
    "    \n",
    "    # Train the LDA model on the corpus\n",
    "    lda = LdaModel(corpus=corpus, num_topics=num_topics, id2word=dictionary)\n",
    "    \n",
    "    # Print the top words for each topic\n",
    "    for i, topic in lda.show_topics(num_words=num_words, formatted=False):\n",
    "        print(f'Topic {i}: {[word for word, _ in topic]}')\n",
    "    \n",
    "    return lda\n",
    "\n",
    "# Extract the list of documents from the DataFrame\n",
    "documents = df['text_tokens'].tolist()\n",
    "\n",
    "# Create a dictionary of the documents\n",
    "dictionary = Dictionary(documents)\n",
    "\n",
    "# Apply the topic modeling function to the documents\n",
    "lda = topic_modeling(documents, dictionary=dictionary)\n",
    "\n",
    "# Assign the topic assignments to a new column in the DataFrame\n",
    "df['topics'] = [lda[dictionary.doc2bow(doc)] for doc in documents]"
   ]
  },
  {
   "cell_type": "code",
   "execution_count": null,
   "metadata": {},
   "outputs": [],
   "source": [
    "from wordcloud import WordCloud\n",
    "\n",
    "def visualize_topic(lda, dictionary, topic_id):\n",
    "    # Create a list of the top words for the topic\n",
    "    top_words = [word for word, _ in lda.show_topic(topic_id, topn=10)]\n",
    "    \n",
    "    # Create a word cloud for the topic\n",
    "    wordcloud = WordCloud(width=600, height=400).generate(' '.join(top_words))\n",
    "    plt.imshow(wordcloud, interpolation='bilinear')\n",
    "    plt.axis(\"off\")\n",
    "    plt.title(f'Topic {topic_id}')\n",
    "    plt.show()\n",
    "\n",
    "# Extract the list of documents from the DataFrame\n",
    "documents = df['text_tokens'].tolist()\n",
    "\n",
    "# Create a dictionary of the documents\n",
    "dictionary = Dictionary(documents)\n",
    "\n",
    "# Train the LDA model on the corpus\n",
    "lda = LdaModel([dictionary.doc2bow(doc) for doc in documents], id2word=dictionary)\n",
    "\n",
    "# Visualize the topic with ID 3\n",
    "visualize_topic(lda, dictionary, 3)"
   ]
  },
  {
   "cell_type": "markdown",
   "metadata": {},
   "source": [
    "# **3. Vectorization**"
   ]
  },
  {
   "cell_type": "markdown",
   "metadata": {},
   "source": [
    "Feature Extraction: Transform the preprocessed text into numerical representations that machine learning models can understand. Popular methods include bag-of-words, TF-IDF (Term Frequency-Inverse Document Frequency), or word embeddings like Word2Vec or GloVe. Experiment with different approaches and choose the one that suits your dataset and analysis goals.\n"
   ]
  },
  {
   "cell_type": "markdown",
   "metadata": {},
   "source": [
    "## **3.1 Tf-Idf Vectorization (sparse)**"
   ]
  },
  {
   "cell_type": "code",
   "execution_count": 45,
   "metadata": {},
   "outputs": [
    {
     "data": {
      "text/plain": [
       "0        [history, torture, execution, yet, received, b...\n",
       "1        [stainless, steel, shouldnt, corrode, really, ...\n",
       "2        [another, weak, sequel, promising, franchise, ...\n",
       "3        [simply, awful, contrived, trite, bridget, jon...\n",
       "4        [flash, jeff, becks, flash, opinion, one, bett...\n",
       "                               ...                        \n",
       "59995    [good, value, cable, connected, p, lcd, tvit, ...\n",
       "59996    [waynes, war, john, waynes, answer, antiwar, m...\n",
       "59997    [great, history, lesson, must, anyone, interes...\n",
       "59998    [super, quiet, super, quiet, efficient, upgrad...\n",
       "59999    [great, book, great, book, found, acutally, pr...\n",
       "Name: text_tokens, Length: 60000, dtype: object"
      ]
     },
     "execution_count": 45,
     "metadata": {},
     "output_type": "execute_result"
    }
   ],
   "source": [
    "df['text_tokens']"
   ]
  },
  {
   "cell_type": "code",
   "execution_count": 46,
   "metadata": {},
   "outputs": [
    {
     "name": "stdout",
     "output_type": "stream",
     "text": [
      "Number of features: 129720\n"
     ]
    }
   ],
   "source": [
    "from gensim.models import TfidfModel\n",
    "from gensim.corpora import Dictionary\n",
    "from gensim.utils import simple_preprocess\n",
    "\n",
    "# Tokenize content by whitespace\n",
    "tokenized_content = df['text_tokens']\n",
    "dct = Dictionary(tokenized_content)  # fit dictionary\n",
    "corpus = [dct.doc2bow(line) for line in tokenized_content]\n",
    "tfidf_model = TfidfModel(corpus)\n",
    "\n",
    "print('Number of features: {}'.format(len(dct)))"
   ]
  },
  {
   "cell_type": "code",
   "execution_count": 47,
   "metadata": {},
   "outputs": [
    {
     "name": "stdout",
     "output_type": "stream",
     "text": [
      "Text 0:\n",
      "the history of torture and execution i have not yet received the book ordered even though i paid a rather high price for it i have been unable to get a response from the seller and am beginning to think that they may be something less than reputablejames j ebyrating zero stars\n",
      "\n",
      "ebyrating:0.4193329258622823\n",
      "reputablejames:0.4193329258622823\n",
      "execution:0.2614219059538113\n",
      "torture:0.25000616307534146\n",
      "j:0.24657788503747421\n",
      "unable:0.21173652595411027\n",
      "response:0.21060354531175754\n",
      "zero:0.19661266217016907\n",
      "seller:0.18418500344497338\n",
      "paid:0.1714862406313785\n",
      "beginning:0.16768255556428044\n",
      "history:0.1510574384987113\n",
      "rather:0.14658312985119648\n",
      "ordered:0.14284792163721538\n",
      "received:0.14103200412476954\n",
      "high:0.13733633053217176\n",
      "less:0.13593938963572713\n",
      "yet:0.13341638525858823\n",
      "stars:0.1322760965329755\n",
      "may:0.1271254673152254\n",
      "though:0.12085458690345048\n",
      "price:0.11475507799014664\n",
      "something:0.11188633776083111\n",
      "think:0.09742628647411378\n",
      "even:0.0809706506759444\n",
      "get:0.06978335515098247\n",
      "book:0.052657103561202866\n"
     ]
    }
   ],
   "source": [
    "doc = 0 #Check for our first review in our dataset\n",
    "print('Text 0:\\n{}\\n'.format(df['text_processed'][0]))\n",
    "\n",
    "# Inspect tf-idf scores of document sorted by the similarity score\n",
    "for w,s in sorted(tfidf_model[corpus[doc]], reverse=True, key=lambda x: x[1]):\n",
    "    print('{}:{}'.format(dct[w], s))"
   ]
  },
  {
   "cell_type": "code",
   "execution_count": 50,
   "metadata": {},
   "outputs": [],
   "source": [
    "from gensim import matutils\n",
    "# vectorize all documents with tf-idf\n",
    "tfidf_vectorization_csr = matutils.corpus2csc(tfidf_model[corpus], num_terms=len(dct))\n",
    "X_tfidf_vectorization = tfidf_vectorization_csr.T.toarray()"
   ]
  },
  {
   "cell_type": "code",
   "execution_count": null,
   "metadata": {},
   "outputs": [],
   "source": []
  },
  {
   "cell_type": "code",
   "execution_count": 35,
   "metadata": {},
   "outputs": [
    {
     "name": "stdout",
     "output_type": "stream",
     "text": [
      "Topic 0: ['water', 'coffee', 'hot', 'cup', 'maker', 'smell', 'pot', 'terrific', 'photo', 'cake']\n",
      "Topic 1: ['comfortable', 'seat', 'shoes', 'helps', 'tape', 'headphones', 'pair', 'wear', 'satisfied', 'terms']\n",
      "Topic 2: ['cats', 'musicians', 'frame', 'sports', 'gun', 'politics', 'performed', 'tube', 'pans', 'inspired']\n",
      "Topic 3: ['great', 'game', 'one', 'like', 'get', 'little', 'old', 'love', 'good', 'bought']\n",
      "Topic 4: ['movie', 'dvd', 'watch', 'film', 'movies', 'video', 'season', 'seen', 'show', 'see']\n",
      "Topic 5: ['product', 'great', 'use', 'good', 'one', 'would', 'works', 'get', 'work', 'price']\n",
      "Topic 6: ['blues', 'town', 'complaints', 'intended', 'remarkable', 'aspects', 'lp', 'xbox', 'drums', 'billy']\n",
      "Topic 7: ['book', 'read', 'one', 'good', 'great', 'story', 'like', 'books', 'would', 'really']\n",
      "Topic 8: ['cd', 'album', 'music', 'like', 'great', 'one', 'songs', 'best', 'good', 'love']\n",
      "Topic 9: ['dog', 'de', 'la', 'account', 'dogs', 'que', 'en', 'el', 'doll', 'spanish']\n"
     ]
    }
   ],
   "source": []
  },
  {
   "cell_type": "code",
   "execution_count": 38,
   "metadata": {},
   "outputs": [
    {
     "data": {
      "text/plain": [
       "[(2, 0.04256444), (7, 0.73173743), (8, 0.19872497)]"
      ]
     },
     "execution_count": 38,
     "metadata": {},
     "output_type": "execute_result"
    }
   ],
   "source": [
    "df.topics[3]"
   ]
  },
  {
   "cell_type": "code",
   "execution_count": 43,
   "metadata": {},
   "outputs": [
    {
     "data": {
      "image/png": "[encoded data removed]",
      "text/plain": [
       "<Figure size 640x480 with 1 Axes>"
      ]
     },
     "metadata": {},
     "output_type": "display_data"
    }
   ],
   "source": []
  },
  {
   "cell_type": "code",
   "execution_count": null,
   "metadata": {},
   "outputs": [],
   "source": []
  }
 ],
 "metadata": {
  "colab": {
   "provenance": []
  },
  "kernelspec": {
   "display_name": "Python 3 (ipykernel)",
   "language": "python",
   "name": "python3"
  },
  "language_info": {
   "codemirror_mode": {
    "name": "ipython",
    "version": 3
   },
   "file_extension": ".py",
   "mimetype": "text/x-python",
   "name": "python",
   "nbconvert_exporter": "python",
   "pygments_lexer": "ipython3",
   "version": "3.8.16"
  }
 },
 "nbformat": 4,
 "nbformat_minor": 1
}
